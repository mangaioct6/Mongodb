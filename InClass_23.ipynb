{
 "cells": [
  {
   "cell_type": "markdown",
   "id": "a7154bfe",
   "metadata": {},
   "source": [
    "## InClass_23"
   ]
  },
  {
   "cell_type": "markdown",
   "id": "32bbfeaa",
   "metadata": {},
   "source": [
    "## MongoDB\n",
    "\n",
    "* Please see mongo pyfile from MongoFolder to see code. I have attached screenshots below for updating, creating, deleting documents in Mongo DB\n",
    "\n",
    "### All file\n",
    "![all.png](all.png)\n",
    "\n",
    "### Using create endpoint\n",
    "![create.png](create.png)\n",
    "\n",
    "### After created file\n",
    "![after%20create.png](after%20create.png)\n",
    "\n",
    "### Using Update endpoint\n",
    "![update.png](update.png)\n",
    "\n",
    "### Using delete endpoint\n",
    "![delete.png](delete.png)\n"
   ]
  },
  {
   "cell_type": "code",
   "execution_count": null,
   "id": "68eb685b",
   "metadata": {},
   "outputs": [],
   "source": []
  }
 ],
 "metadata": {
  "kernelspec": {
   "display_name": "Python 3 (ipykernel)",
   "language": "python",
   "name": "python3"
  },
  "language_info": {
   "codemirror_mode": {
    "name": "ipython",
    "version": 3
   },
   "file_extension": ".py",
   "mimetype": "text/x-python",
   "name": "python",
   "nbconvert_exporter": "python",
   "pygments_lexer": "ipython3",
   "version": "3.7.4"
  }
 },
 "nbformat": 4,
 "nbformat_minor": 5
}

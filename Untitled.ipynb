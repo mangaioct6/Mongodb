{
 "cells": [
  {
   "cell_type": "code",
   "execution_count": 1,
   "id": "6f4828a0",
   "metadata": {},
   "outputs": [],
   "source": [
    "import pymongo\n",
    "import datetime\n",
    "\n",
    "#connect to mongodb on default port\n",
    "conn='mongodb://localhost:27017'\n",
    "client=pymongo.MongoClient(conn)\n",
    "\n",
    "#create a database\n",
    "sdb = client.shows_db\n",
    "\n",
    "#create a collection in that DB\n",
    "tv_shows = sdb.tv_shows"
   ]
  },
  {
   "cell_type": "code",
   "execution_count": 10,
   "id": "211fb826",
   "metadata": {},
   "outputs": [
    {
     "data": {
      "text/plain": [
       "<pymongo.results.InsertOneResult at 0x1bce13b3688>"
      ]
     },
     "execution_count": 10,
     "metadata": {},
     "output_type": "execute_result"
    }
   ],
   "source": [
    "#CREATE\n",
    "post_data = {'name':'My Life is Murder',\n",
    "            'seasons':2,\n",
    "             'duration':'45 minutes',\n",
    "             'year':2019,\n",
    "             'date_added':datetime.datetime.utcnow()\n",
    "            }\n",
    "\n",
    "tv_shows.insert_one(post_data)"
   ]
  },
  {
   "cell_type": "code",
   "execution_count": 11,
   "id": "c9b2f0b1",
   "metadata": {},
   "outputs": [
    {
     "data": {
      "text/plain": [
       "<pymongo.results.InsertOneResult at 0x1bce13a3e08>"
      ]
     },
     "execution_count": 11,
     "metadata": {},
     "output_type": "execute_result"
    }
   ],
   "source": [
    "#CREATE\n",
    "post_data = {'name':'Abbott Elementary',\n",
    "            'seasons':2,\n",
    "             'duration':'45 minutes',\n",
    "             'year':2019,\n",
    "             'date_added':datetime.datetime.utcnow()\n",
    "            }\n",
    "\n",
    "tv_shows.insert_one(post_data)"
   ]
  },
  {
   "cell_type": "code",
   "execution_count": null,
   "id": "bc8f2b63",
   "metadata": {},
   "outputs": [],
   "source": []
  },
  {
   "cell_type": "code",
   "execution_count": 3,
   "id": "35162a01",
   "metadata": {},
   "outputs": [
    {
     "name": "stdout",
     "output_type": "stream",
     "text": [
      "{'_id': ObjectId('62201c2b1e742d049a4ffc6c'), 'name': 'My Life is Murder', 'seasons': 2, 'duration': '45 minutes', 'year': 2019, 'date_added': datetime.datetime(2022, 3, 3, 1, 38, 51, 431000)}\n"
     ]
    }
   ],
   "source": [
    "#READ\n",
    "results= tv_shows.find()\n",
    "for result in results:\n",
    "    print(result)"
   ]
  },
  {
   "cell_type": "code",
   "execution_count": 4,
   "id": "8ce14fac",
   "metadata": {},
   "outputs": [
    {
     "data": {
      "text/plain": [
       "<pymongo.results.DeleteResult at 0x1bce0c77748>"
      ]
     },
     "execution_count": 4,
     "metadata": {},
     "output_type": "execute_result"
    }
   ],
   "source": [
    "#DELETE\n",
    "tv_shows.delete_one({'name':'Deamon Slayer'})"
   ]
  },
  {
   "cell_type": "code",
   "execution_count": null,
   "id": "ccc60573",
   "metadata": {},
   "outputs": [],
   "source": []
  }
 ],
 "metadata": {
  "kernelspec": {
   "display_name": "Python 3 (ipykernel)",
   "language": "python",
   "name": "python3"
  },
  "language_info": {
   "codemirror_mode": {
    "name": "ipython",
    "version": 3
   },
   "file_extension": ".py",
   "mimetype": "text/x-python",
   "name": "python",
   "nbconvert_exporter": "python",
   "pygments_lexer": "ipython3",
   "version": "3.7.4"
  }
 },
 "nbformat": 4,
 "nbformat_minor": 5
}
